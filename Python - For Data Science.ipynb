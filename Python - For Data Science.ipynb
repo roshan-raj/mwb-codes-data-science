{
 "cells": [
  {
   "cell_type": "markdown",
   "id": "10128c7c",
   "metadata": {},
   "source": [
    "### Data Types"
   ]
  },
  {
   "cell_type": "markdown",
   "id": "fb1efe8f",
   "metadata": {},
   "source": [
    "Data  types are  the  classification  or  categorization  of data items.Variables can  hold values of different data types and different data types can do different things. The most important datatypes are Integer,float,string,Boolean\n",
    "\n",
    "Below are the details of these datatypes:\n",
    "    \n",
    "    ●Integer (int)- Integer means a non-decimal point numeric number. Integer can take both negative and positive values. Eg--4,6,10,-50,6513\n",
    "    ● Float- The float type in Python designates a floating-point number.float values are specified  with  a  decimal  point.  Float  can  take  both  negative  and  positive values.Eg –5.4,-2.1113,1.1,-73.87\n",
    "    ● String(str)- Strings are sequences of character data. Strings may contain alphabets or numbers ora combination of both. Strings literals may be delimited using single or double  quotes.  All  the  characters between  the  opening  delimiter and the closing delimiter are a part of the string. Eg-“Hello World”,‘Myname is John’, “My area pin-code is 121121”\n",
    "    ● Boolean(bool)- Boolean means True or False. An object can take a value of True or a value of False.\n",
    "    \n",
    "To  check  the  data  typeof  a  variable,  usetype function ‘type()’."
   ]
  },
  {
   "cell_type": "markdown",
   "id": "145908f3",
   "metadata": {},
   "source": [
    "Below  are  a  few examples on function `type()`"
   ]
  },
  {
   "cell_type": "code",
   "execution_count": 16,
   "id": "3588bd4d",
   "metadata": {},
   "outputs": [
    {
     "data": {
      "text/plain": [
       "int"
      ]
     },
     "execution_count": 16,
     "metadata": {},
     "output_type": "execute_result"
    }
   ],
   "source": [
    "number = 7\n",
    "type(number)"
   ]
  },
  {
   "cell_type": "code",
   "execution_count": 4,
   "id": "06f1f9ef",
   "metadata": {},
   "outputs": [
    {
     "data": {
      "text/plain": [
       "float"
      ]
     },
     "execution_count": 4,
     "metadata": {},
     "output_type": "execute_result"
    }
   ],
   "source": [
    "Float = 2.88\n",
    "type(Float)"
   ]
  },
  {
   "cell_type": "code",
   "execution_count": 5,
   "id": "9e3c55b3",
   "metadata": {},
   "outputs": [
    {
     "data": {
      "text/plain": [
       "complex"
      ]
     },
     "execution_count": 5,
     "metadata": {},
     "output_type": "execute_result"
    }
   ],
   "source": [
    "Complex = 3.908J\n",
    "type(Complex)"
   ]
  },
  {
   "cell_type": "code",
   "execution_count": 13,
   "id": "4505be21",
   "metadata": {},
   "outputs": [
    {
     "data": {
      "text/plain": [
       "str"
      ]
     },
     "execution_count": 13,
     "metadata": {},
     "output_type": "execute_result"
    }
   ],
   "source": [
    "String = '2.3'\n",
    "type(String)"
   ]
  },
  {
   "cell_type": "code",
   "execution_count": 15,
   "id": "d9a74ff1",
   "metadata": {},
   "outputs": [
    {
     "data": {
      "text/plain": [
       "bool"
      ]
     },
     "execution_count": 15,
     "metadata": {},
     "output_type": "execute_result"
    }
   ],
   "source": [
    "x = False \n",
    "type(x)"
   ]
  },
  {
   "cell_type": "markdown",
   "id": "b4643da9",
   "metadata": {},
   "source": [
    "### Collection of Variables"
   ]
  },
  {
   "cell_type": "markdown",
   "id": "a83b3329",
   "metadata": {},
   "source": [
    "#### List\n",
    "\n",
    "A collection of items of any data type\n",
    "\n",
    "- Mutable (can be edited)\n",
    "- Supports Indexing "
   ]
  },
  {
   "cell_type": "code",
   "execution_count": 49,
   "id": "4be8a343",
   "metadata": {},
   "outputs": [
    {
     "data": {
      "text/plain": [
       "[2.4, 5.5, 7.9, 9.11, 'ROSHAN', True]"
      ]
     },
     "execution_count": 49,
     "metadata": {},
     "output_type": "execute_result"
    }
   ],
   "source": [
    "number = 10\n",
    "floatNumber = 2.5\n",
    "\n",
    "List_example = [2.4, 5.5, 7.9, 9.11, \"ROSHAN\", True]\n",
    "\n",
    "List_example"
   ]
  },
  {
   "cell_type": "code",
   "execution_count": 50,
   "id": "1e57cc1e",
   "metadata": {},
   "outputs": [
    {
     "data": {
      "text/plain": [
       "[2.4, 5.5, 7.9, 9.11, 'ROSHAN', True]"
      ]
     },
     "execution_count": 50,
     "metadata": {},
     "output_type": "execute_result"
    }
   ],
   "source": [
    "List_example"
   ]
  },
  {
   "cell_type": "code",
   "execution_count": 51,
   "id": "167b4610",
   "metadata": {},
   "outputs": [],
   "source": [
    "List_example[3] = 1000 # List of 0"
   ]
  },
  {
   "cell_type": "code",
   "execution_count": 52,
   "id": "32293b76",
   "metadata": {},
   "outputs": [
    {
     "data": {
      "text/plain": [
       "[2.4, 5.5, 7.9, 1000, 'ROSHAN', True]"
      ]
     },
     "execution_count": 52,
     "metadata": {},
     "output_type": "execute_result"
    }
   ],
   "source": [
    "List_example"
   ]
  },
  {
   "cell_type": "code",
   "execution_count": 53,
   "id": "4b4851b7",
   "metadata": {},
   "outputs": [
    {
     "data": {
      "text/plain": [
       "[2.4, 5.5, 7.9, 1000, 'ROSHAN', True]"
      ]
     },
     "execution_count": 53,
     "metadata": {},
     "output_type": "execute_result"
    }
   ],
   "source": [
    "List_example"
   ]
  },
  {
   "cell_type": "code",
   "execution_count": 54,
   "id": "4cf0c290",
   "metadata": {},
   "outputs": [],
   "source": [
    "List_example[-1] = 70"
   ]
  },
  {
   "cell_type": "code",
   "execution_count": 55,
   "id": "ce5dc9c4",
   "metadata": {},
   "outputs": [
    {
     "data": {
      "text/plain": [
       "[2.4, 5.5, 7.9, 1000, 'ROSHAN', 70]"
      ]
     },
     "execution_count": 55,
     "metadata": {},
     "output_type": "execute_result"
    }
   ],
   "source": [
    "List_example"
   ]
  },
  {
   "cell_type": "code",
   "execution_count": 58,
   "id": "1926b897",
   "metadata": {},
   "outputs": [],
   "source": [
    "List_example[-2] = -999"
   ]
  },
  {
   "cell_type": "code",
   "execution_count": 59,
   "id": "26cda8c7",
   "metadata": {},
   "outputs": [
    {
     "data": {
      "text/plain": [
       "[2.4, 5.5, 7.9, 8.9, -999, 70]"
      ]
     },
     "execution_count": 59,
     "metadata": {},
     "output_type": "execute_result"
    }
   ],
   "source": [
    "List_example"
   ]
  },
  {
   "cell_type": "code",
   "execution_count": 46,
   "id": "175ece70",
   "metadata": {
    "scrolled": true
   },
   "outputs": [
    {
     "name": "stdout",
     "output_type": "stream",
     "text": [
      "['Raj', 1, 2, 3, 'python']\n",
      "Raj\n",
      "3\n",
      "python\n",
      "Raj\n",
      "5\n"
     ]
    }
   ],
   "source": [
    "# a list is an ordered and indexed collection of values that are changeable and allows duplicates\n",
    "\n",
    "simple_list = ['Raj',1,2,3,'python']\n",
    "\n",
    "print(simple_list)\n",
    "\n",
    "print(simple_list[0])\n",
    "\n",
    "print(simple_list[3])\n",
    "\n",
    "print(simple_list[-1])\n",
    "\n",
    "print(simple_list[-5])\n",
    "\n",
    "print(len(simple_list))"
   ]
  },
  {
   "cell_type": "code",
   "execution_count": 60,
   "id": "cf1e7504",
   "metadata": {},
   "outputs": [
    {
     "name": "stdout",
     "output_type": "stream",
     "text": [
      "python\n"
     ]
    }
   ],
   "source": [
    "print(simple_list[-1])"
   ]
  },
  {
   "cell_type": "code",
   "execution_count": null,
   "id": "dfce90a0",
   "metadata": {},
   "outputs": [],
   "source": []
  },
  {
   "cell_type": "code",
   "execution_count": 84,
   "id": "32c88cab",
   "metadata": {},
   "outputs": [],
   "source": [
    "list_ex = [10, 20, 30, 40 , 50] # CREATE"
   ]
  },
  {
   "cell_type": "code",
   "execution_count": 87,
   "id": "910faafe",
   "metadata": {},
   "outputs": [
    {
     "data": {
      "text/plain": [
       "[10, 20, 30, 1000, 50]"
      ]
     },
     "execution_count": 87,
     "metadata": {},
     "output_type": "execute_result"
    }
   ],
   "source": [
    "list_ex"
   ]
  },
  {
   "cell_type": "code",
   "execution_count": 88,
   "id": "996fee1d",
   "metadata": {},
   "outputs": [],
   "source": [
    "list_ex[3] = 1000 # UPDATE"
   ]
  },
  {
   "cell_type": "code",
   "execution_count": 89,
   "id": "115db971",
   "metadata": {},
   "outputs": [
    {
     "data": {
      "text/plain": [
       "[10, 20, 30, 1000, 50]"
      ]
     },
     "execution_count": 89,
     "metadata": {},
     "output_type": "execute_result"
    }
   ],
   "source": [
    "list_ex # SELECT"
   ]
  },
  {
   "cell_type": "code",
   "execution_count": 90,
   "id": "39973cf0",
   "metadata": {},
   "outputs": [],
   "source": [
    "list_ex.append(\"MY NAME IS JHON\") "
   ]
  },
  {
   "cell_type": "code",
   "execution_count": 91,
   "id": "433cb026",
   "metadata": {},
   "outputs": [
    {
     "data": {
      "text/plain": [
       "[10, 20, 30, 1000, 50, 'MY NAME IS JHON']"
      ]
     },
     "execution_count": 91,
     "metadata": {},
     "output_type": "execute_result"
    }
   ],
   "source": [
    "list_ex"
   ]
  },
  {
   "cell_type": "code",
   "execution_count": 92,
   "id": "0ea5ed38",
   "metadata": {},
   "outputs": [
    {
     "data": {
      "text/plain": [
       "1000"
      ]
     },
     "execution_count": 92,
     "metadata": {},
     "output_type": "execute_result"
    }
   ],
   "source": [
    "list_ex.pop(3) #DESTROY"
   ]
  },
  {
   "cell_type": "code",
   "execution_count": 93,
   "id": "a8234443",
   "metadata": {},
   "outputs": [
    {
     "data": {
      "text/plain": [
       "[10, 20, 30, 50, 'MY NAME IS JHON']"
      ]
     },
     "execution_count": 93,
     "metadata": {},
     "output_type": "execute_result"
    }
   ],
   "source": [
    "list_ex"
   ]
  },
  {
   "cell_type": "code",
   "execution_count": 95,
   "id": "bdcd1b11",
   "metadata": {},
   "outputs": [
    {
     "ename": "IndexError",
     "evalue": "pop index out of range",
     "output_type": "error",
     "traceback": [
      "\u001b[1;31m---------------------------------------------------------------------------\u001b[0m",
      "\u001b[1;31mIndexError\u001b[0m                                Traceback (most recent call last)",
      "Input \u001b[1;32mIn [95]\u001b[0m, in \u001b[0;36m<cell line: 1>\u001b[1;34m()\u001b[0m\n\u001b[1;32m----> 1\u001b[0m \u001b[43mlist_ex\u001b[49m\u001b[38;5;241;43m.\u001b[39;49m\u001b[43mpop\u001b[49m\u001b[43m(\u001b[49m\u001b[38;5;241;43m100\u001b[39;49m\u001b[43m)\u001b[49m\n",
      "\u001b[1;31mIndexError\u001b[0m: pop index out of range"
     ]
    }
   ],
   "source": [
    "list_ex.pop(100)"
   ]
  },
  {
   "cell_type": "code",
   "execution_count": 32,
   "id": "7993c5c4",
   "metadata": {},
   "outputs": [
    {
     "data": {
      "text/plain": [
       "[20, 30, 50, 999]"
      ]
     },
     "execution_count": 32,
     "metadata": {},
     "output_type": "execute_result"
    }
   ],
   "source": [
    "list_ex"
   ]
  },
  {
   "cell_type": "code",
   "execution_count": 96,
   "id": "48dda498",
   "metadata": {},
   "outputs": [
    {
     "name": "stdout",
     "output_type": "stream",
     "text": [
      "52\n",
      "['Raj', 1, 2, 52, 'python', 'to the back']\n",
      "6\n",
      "['Raj', 1, 2, 52, 'to the back']\n"
     ]
    }
   ],
   "source": [
    "# it is easy to change entries of a list\n",
    "simple_list[3] = 52\n",
    "\n",
    "print(simple_list[3]) # index is based on 0!!!\n",
    "\n",
    "simple_list.append('to the back')\n",
    "print(simple_list)\n",
    "\n",
    "print(len(simple_list))\n",
    "\n",
    "simple_list.pop(4)\n",
    "\n",
    "print(simple_list)"
   ]
  },
  {
   "cell_type": "markdown",
   "id": "73b61f21",
   "metadata": {},
   "source": [
    "#### Accessing data in lists\n",
    "\n",
    "A list is the main data type we will use for now and there are some rules we need to remember for accessing data in lists."
   ]
  },
  {
   "cell_type": "code",
   "execution_count": 97,
   "id": "6cdcb376",
   "metadata": {},
   "outputs": [
    {
     "data": {
      "text/plain": [
       "[20, 30, 50, 'MY NAME IS JHON']"
      ]
     },
     "execution_count": 97,
     "metadata": {},
     "output_type": "execute_result"
    }
   ],
   "source": [
    "list_ex"
   ]
  },
  {
   "cell_type": "code",
   "execution_count": 99,
   "id": "1d34d464",
   "metadata": {},
   "outputs": [],
   "source": [
    "simple_list = [1,5,2,7,3,66,1923,11]"
   ]
  },
  {
   "cell_type": "code",
   "execution_count": 100,
   "id": "48fb5f7d",
   "metadata": {},
   "outputs": [
    {
     "data": {
      "text/plain": [
       "[1, 5, 2, 7, 3, 66, 1923, 11]"
      ]
     },
     "execution_count": 100,
     "metadata": {},
     "output_type": "execute_result"
    }
   ],
   "source": [
    "simple_list"
   ]
  },
  {
   "cell_type": "code",
   "execution_count": 101,
   "id": "aaef3048",
   "metadata": {},
   "outputs": [
    {
     "name": "stdout",
     "output_type": "stream",
     "text": [
      "[2, 7, 3]\n"
     ]
    }
   ],
   "source": [
    "# we can access multiple values in the list using the :\n",
    "print(simple_list[2:5])"
   ]
  },
  {
   "cell_type": "code",
   "execution_count": 102,
   "id": "8d8a1fdf",
   "metadata": {},
   "outputs": [
    {
     "name": "stdout",
     "output_type": "stream",
     "text": [
      "[7, 3, 66, 1923]\n"
     ]
    }
   ],
   "source": [
    "print(simple_list[-5:-1])"
   ]
  },
  {
   "cell_type": "code",
   "execution_count": 33,
   "id": "37e3bb58",
   "metadata": {},
   "outputs": [
    {
     "name": "stdout",
     "output_type": "stream",
     "text": [
      "[2, 7, 3]\n",
      "[2]\n",
      "[7, 3, 66, 1923]\n"
     ]
    }
   ],
   "source": [
    "\n",
    "\n",
    "\n",
    "# why isn't 66 in the output?\n",
    "# the number to the left of the : is inclusive, but the number to the right is exclusive\n",
    "print(simple_list[2:3])\n",
    "\n",
    "# we can also use negative numbers\n",
    "print(simple_list[-5:-1])"
   ]
  },
  {
   "cell_type": "code",
   "execution_count": 34,
   "id": "698a4282",
   "metadata": {},
   "outputs": [
    {
     "name": "stdout",
     "output_type": "stream",
     "text": [
      "[2, 7, 3]\n"
     ]
    }
   ],
   "source": [
    "simple_list = [1,5,2,7,3,66,1923,11]\n",
    "\n",
    "# we can access multiple values in the list using the :\n",
    "print(simple_list[2:5])"
   ]
  },
  {
   "cell_type": "code",
   "execution_count": 36,
   "id": "cdc05629",
   "metadata": {},
   "outputs": [
    {
     "data": {
      "text/plain": [
       "list"
      ]
     },
     "execution_count": 36,
     "metadata": {},
     "output_type": "execute_result"
    }
   ],
   "source": [
    "List_example = [1,2,3,4]\n",
    "type(List_example)"
   ]
  },
  {
   "cell_type": "code",
   "execution_count": 38,
   "id": "db2c3797",
   "metadata": {},
   "outputs": [],
   "source": [
    "List_example[0] = 10"
   ]
  },
  {
   "cell_type": "code",
   "execution_count": 35,
   "id": "e846c024",
   "metadata": {},
   "outputs": [
    {
     "data": {
      "text/plain": [
       "tuple"
      ]
     },
     "execution_count": 35,
     "metadata": {},
     "output_type": "execute_result"
    }
   ],
   "source": [
    "Tuple_example = (1,2,3,4)\n",
    "type(Tuple_example)"
   ]
  },
  {
   "cell_type": "code",
   "execution_count": 37,
   "id": "f2d35587",
   "metadata": {},
   "outputs": [
    {
     "ename": "TypeError",
     "evalue": "'tuple' object does not support item assignment",
     "output_type": "error",
     "traceback": [
      "\u001b[1;31m---------------------------------------------------------------------------\u001b[0m",
      "\u001b[1;31mTypeError\u001b[0m                                 Traceback (most recent call last)",
      "Input \u001b[1;32mIn [37]\u001b[0m, in \u001b[0;36m<cell line: 1>\u001b[1;34m()\u001b[0m\n\u001b[1;32m----> 1\u001b[0m Tuple_example[\u001b[38;5;241m0\u001b[39m] \u001b[38;5;241m=\u001b[39m \u001b[38;5;241m10\u001b[39m\n",
      "\u001b[1;31mTypeError\u001b[0m: 'tuple' object does not support item assignment"
     ]
    }
   ],
   "source": [
    "Tuple_example[0] = 10"
   ]
  },
  {
   "cell_type": "markdown",
   "id": "9ac44280",
   "metadata": {},
   "source": [
    "#### Set\n",
    "\n",
    "A set in python is like a mathematical set. It does not hold duplicate values and arranges in ascending order\n",
    "\n",
    "- Mutable (can be edited)\n",
    "- Does not Supports Indexing in python"
   ]
  },
  {
   "cell_type": "code",
   "execution_count": 115,
   "id": "71d00f94",
   "metadata": {},
   "outputs": [
    {
     "data": {
      "text/plain": [
       "set"
      ]
     },
     "execution_count": 115,
     "metadata": {},
     "output_type": "execute_result"
    }
   ],
   "source": [
    "Set_example = {99999,5,1,2,3,4,4,4,4,4,4,4,4, \"roshan\"}\n",
    "type(Set_example)"
   ]
  },
  {
   "cell_type": "code",
   "execution_count": 116,
   "id": "3fd3b5eb",
   "metadata": {},
   "outputs": [
    {
     "data": {
      "text/plain": [
       "{1, 2, 3, 4, 5, 99999, 'roshan'}"
      ]
     },
     "execution_count": 116,
     "metadata": {},
     "output_type": "execute_result"
    }
   ],
   "source": [
    "Set_example"
   ]
  },
  {
   "cell_type": "code",
   "execution_count": 106,
   "id": "747e0635",
   "metadata": {},
   "outputs": [],
   "source": [
    "List_example = [5,1,2,3,4,4,4,4,4,4,4,4, \"rhs\"]"
   ]
  },
  {
   "cell_type": "code",
   "execution_count": 107,
   "id": "e4399093",
   "metadata": {},
   "outputs": [
    {
     "data": {
      "text/plain": [
       "[5, 1, 2, 3, 4, 4, 4, 4, 4, 4, 4, 4, 'rhs']"
      ]
     },
     "execution_count": 107,
     "metadata": {},
     "output_type": "execute_result"
    }
   ],
   "source": [
    "List_example"
   ]
  },
  {
   "cell_type": "code",
   "execution_count": 108,
   "id": "10a63f89",
   "metadata": {},
   "outputs": [
    {
     "data": {
      "text/plain": [
       "1"
      ]
     },
     "execution_count": 108,
     "metadata": {},
     "output_type": "execute_result"
    }
   ],
   "source": [
    "List_example[1]"
   ]
  },
  {
   "cell_type": "markdown",
   "id": "723dbea2",
   "metadata": {},
   "source": [
    "#### Dictionary \n",
    "\n",
    "A Python dictionary contains key-value pairs just like a real-worlddictionary has word and its meaning pair\n",
    "\n",
    "- Mutable (can be edited)\n",
    "- Supports Indexing using keys"
   ]
  },
  {
   "cell_type": "code",
   "execution_count": 4,
   "id": "43bbaa8e",
   "metadata": {},
   "outputs": [
    {
     "data": {
      "text/plain": [
       "dict"
      ]
     },
     "execution_count": 4,
     "metadata": {},
     "output_type": "execute_result"
    }
   ],
   "source": [
    "# key:value pair\n",
    "Dictionary_example = {\n",
    "    1: 'January', \n",
    "    2: 'Feb', \n",
    "    \"hfdhfduf\": 'March',\n",
    "    4: 'April'\n",
    "}\n",
    "type(Dictionary_example)"
   ]
  },
  {
   "cell_type": "code",
   "execution_count": 5,
   "id": "d286dd58",
   "metadata": {},
   "outputs": [
    {
     "data": {
      "text/plain": [
       "{1: 'January', 2: 'Feb', 'hfdhfduf': 'March', 4: 'April'}"
      ]
     },
     "execution_count": 5,
     "metadata": {},
     "output_type": "execute_result"
    }
   ],
   "source": [
    "Dictionary_example"
   ]
  },
  {
   "cell_type": "code",
   "execution_count": 6,
   "id": "9fb087fd",
   "metadata": {},
   "outputs": [
    {
     "data": {
      "text/plain": [
       "'March'"
      ]
     },
     "execution_count": 6,
     "metadata": {},
     "output_type": "execute_result"
    }
   ],
   "source": [
    "Dictionary_example[\"hfdhfduf\"]"
   ]
  },
  {
   "cell_type": "code",
   "execution_count": 129,
   "id": "3cd69508",
   "metadata": {},
   "outputs": [
    {
     "data": {
      "text/plain": [
       "{1: 'January', 2: 'Feb', 'hfdhfduf': 'March', 4: 'April'}"
      ]
     },
     "execution_count": 129,
     "metadata": {},
     "output_type": "execute_result"
    }
   ],
   "source": [
    "Dictionary_example"
   ]
  },
  {
   "cell_type": "code",
   "execution_count": 7,
   "id": "0d55dffa",
   "metadata": {},
   "outputs": [],
   "source": [
    "Dictionary_example[3] = \"JOHN\""
   ]
  },
  {
   "cell_type": "code",
   "execution_count": 8,
   "id": "a44cec46",
   "metadata": {},
   "outputs": [
    {
     "data": {
      "text/plain": [
       "{1: 'January', 2: 'Feb', 'hfdhfduf': 'March', 4: 'April', 3: 'JOHN'}"
      ]
     },
     "execution_count": 8,
     "metadata": {},
     "output_type": "execute_result"
    }
   ],
   "source": [
    "Dictionary_example"
   ]
  },
  {
   "cell_type": "markdown",
   "id": "d0bf61d3",
   "metadata": {},
   "source": [
    "### Flow Control\n",
    "\n",
    "1. Loops\n",
    "2. Conditions"
   ]
  },
  {
   "cell_type": "markdown",
   "id": "90d1322a",
   "metadata": {},
   "source": [
    "#### Loops\n",
    "\n",
    "Loop is a sequence of instructions that is continually repeated until a certain condition is reached."
   ]
  },
  {
   "cell_type": "code",
   "execution_count": 1,
   "id": "7b138886",
   "metadata": {
    "collapsed": true
   },
   "outputs": [
    {
     "name": "stdout",
     "output_type": "stream",
     "text": [
      "0\n",
      "1\n",
      "2\n",
      "3\n",
      "4\n",
      "5\n",
      "6\n",
      "7\n",
      "8\n",
      "9\n",
      "10\n",
      "this line is not inside the loop\n",
      "the loop cycled 11 times\n"
     ]
    }
   ],
   "source": [
    "# For-Loops\n",
    "\n",
    "counter = 0\n",
    "simple_list = [0,1,2,3,4,5,6,7,8,9,10]\n",
    "\n",
    "for i in simple_list:\n",
    "    # the only lines that get executed in this loop are tabbed correctly!!!\n",
    "    # indentations\n",
    "    print(i)\n",
    "    counter = counter + 1\n",
    "\n",
    "print('this line is not inside the loop')\n",
    "print('the loop cycled',counter,'times')"
   ]
  },
  {
   "cell_type": "code",
   "execution_count": 2,
   "id": "778fb55f",
   "metadata": {},
   "outputs": [
    {
     "name": "stdout",
     "output_type": "stream",
     "text": [
      "4\n",
      "5\n",
      "6\n",
      "outside of j loop\n",
      "8\n",
      "10\n",
      "12\n",
      "outside of j loop\n",
      "12\n",
      "15\n",
      "18\n",
      "outside of j loop\n",
      "outside of both loops\n"
     ]
    }
   ],
   "source": [
    "for i in simple_list[1:4]: # [1,2,3]\n",
    "    for j in simple_list[4:7]: # [4,5,6]\n",
    "        print(i*j) # 2 * 6\n",
    "    print('outside of j loop')\n",
    "print('outside of both loops')"
   ]
  },
  {
   "cell_type": "code",
   "execution_count": 3,
   "id": "639f4b6a",
   "metadata": {},
   "outputs": [
    {
     "name": "stdout",
     "output_type": "stream",
     "text": [
      "range(0, 6)\n"
     ]
    }
   ],
   "source": [
    "# we may just want to loop over a range of values\n",
    "# we can do this with a 'range' type\n",
    "six_list = [0,1,2,3,4,5]\n",
    "\n",
    "print(range(6))"
   ]
  },
  {
   "cell_type": "code",
   "execution_count": 4,
   "id": "17b4d846",
   "metadata": {
    "collapsed": true
   },
   "outputs": [
    {
     "name": "stdout",
     "output_type": "stream",
     "text": [
      "0\n",
      "1\n",
      "2\n",
      "3\n",
      "4\n",
      "5\n"
     ]
    }
   ],
   "source": [
    "for i in range(6):\n",
    "    print(i)"
   ]
  },
  {
   "cell_type": "code",
   "execution_count": 5,
   "id": "05637410",
   "metadata": {
    "collapsed": true
   },
   "outputs": [
    {
     "name": "stdout",
     "output_type": "stream",
     "text": [
      "4\n",
      "5\n",
      "6\n",
      "7\n",
      "8\n",
      "9\n"
     ]
    }
   ],
   "source": [
    "# we can specify the starting point of a range also\n",
    "# remember that the left value is inclusive and the right value is exclusive\n",
    "for i in range(4,10):\n",
    "    print(i)"
   ]
  },
  {
   "cell_type": "code",
   "execution_count": 6,
   "id": "a28ca687",
   "metadata": {},
   "outputs": [
    {
     "name": "stdout",
     "output_type": "stream",
     "text": [
      "2\n",
      "4\n",
      "6\n",
      "8\n"
     ]
    }
   ],
   "source": [
    "# we can also increment by a specific amount\n",
    "\n",
    "[2,3,4,5,6,7,8,9]\n",
    "\n",
    "for i in range(2,10,2):\n",
    "    print(i)"
   ]
  },
  {
   "cell_type": "code",
   "execution_count": 7,
   "id": "4290a466",
   "metadata": {},
   "outputs": [
    {
     "data": {
      "text/plain": [
       "[6, 9, 12]"
      ]
     },
     "execution_count": 7,
     "metadata": {},
     "output_type": "execute_result"
    }
   ],
   "source": [
    "# we can convert a range type to a list though\n",
    "list(range(6,15,3))"
   ]
  },
  {
   "cell_type": "code",
   "execution_count": 8,
   "id": "ef88feef",
   "metadata": {},
   "outputs": [
    {
     "name": "stdout",
     "output_type": "stream",
     "text": [
      "4\n",
      "5\n",
      "6\n",
      "7\n",
      "8\n",
      "9\n",
      "outside of loop\n"
     ]
    }
   ],
   "source": [
    "# while loops are similar to most other languages\n",
    "# but the inside of the while loop is still determined by tabs\n",
    "i = 4\n",
    "while i < 10: # 4 < 10\n",
    "    print(i)\n",
    "    i = i + 1 # i = 5\n",
    "print('outside of loop')"
   ]
  },
  {
   "cell_type": "markdown",
   "id": "8a74390a",
   "metadata": {},
   "source": [
    "#### Conditions\n",
    "\n",
    "Conditional statements are used through the various programming languages to instruct the computer on the decision to make when given some conditions.\n",
    "\n",
    "1. if statement\n",
    "2. else statement\n",
    "3. elif statement"
   ]
  },
  {
   "cell_type": "code",
   "execution_count": 9,
   "id": "51104f20",
   "metadata": {},
   "outputs": [
    {
     "name": "stdout",
     "output_type": "stream",
     "text": [
      "5 is less than 10\n"
     ]
    }
   ],
   "source": [
    "i = 5\n",
    "if i < 10:\n",
    "    print(i,'is less than 10')\n",
    "else:\n",
    "    print(i,'is greater than 10')"
   ]
  },
  {
   "cell_type": "code",
   "execution_count": 10,
   "id": "ff3ac1c6",
   "metadata": {},
   "outputs": [
    {
     "name": "stdout",
     "output_type": "stream",
     "text": [
      "1 is less than 3\n"
     ]
    }
   ],
   "source": [
    "i = 1\n",
    "if i > 10:\n",
    "    print(i,'is greater than 10')\n",
    "elif i < 3:\n",
    "    print(i,'is less than 3')\n",
    "elif i > 4:\n",
    "    print(i)\n",
    "else:\n",
    "    print(i,'is between 3 and 10')"
   ]
  }
 ],
 "metadata": {
  "kernelspec": {
   "display_name": "Python 3.9.12 ('base')",
   "language": "python",
   "name": "python3"
  },
  "language_info": {
   "codemirror_mode": {
    "name": "ipython",
    "version": 3
   },
   "file_extension": ".py",
   "mimetype": "text/x-python",
   "name": "python",
   "nbconvert_exporter": "python",
   "pygments_lexer": "ipython3",
   "version": "3.9.12"
  },
  "vscode": {
   "interpreter": {
    "hash": "4be2614663538873126dcab07e696d9bea79d8a5b3bf1cd00acc4cbda0edd1f3"
   }
  }
 },
 "nbformat": 4,
 "nbformat_minor": 5
}
